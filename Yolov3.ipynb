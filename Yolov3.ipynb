{
 "cells": [
  {
   "cell_type": "code",
   "execution_count": null,
   "metadata": {
    "colab": {},
    "colab_type": "code",
    "id": "8jjKsw3KCLNU"
   },
   "outputs": [],
   "source": [
    "from IPython.display import Image, display"
   ]
  },
  {
   "cell_type": "code",
   "execution_count": null,
   "metadata": {},
   "outputs": [],
   "source": [
    "%cd my_path_to_darknet_folder"
   ]
  },
  {
   "cell_type": "code",
   "execution_count": null,
   "metadata": {
    "colab": {},
    "colab_type": "code",
    "id": "dPJBzA5WChBI"
   },
   "outputs": [],
   "source": [
    "#Create Environment\n",
    "!make\n",
    "!chmod +x ./darknet"
   ]
  },
  {
   "cell_type": "code",
   "execution_count": 0,
   "metadata": {
    "colab": {},
    "colab_type": "code",
    "id": "8JJxCRgIjnnc"
   },
   "outputs": [],
   "source": [
    "#Remove old backup folder\n",
    "!rm /content/darknet/backup -r\n",
    "!ln -s path_to_new_backup_folder path_to_darknet_in_backup"
   ]
  },
  {
   "cell_type": "code",
   "execution_count": 0,
   "metadata": {
    "colab": {
     "base_uri": "https://localhost:8080/",
     "height": 35
    },
    "colab_type": "code",
    "id": "4r9j8q7m95xv",
    "outputId": "a630e046-6aea-4611-a173-d4156d59fc88"
   },
   "outputs": [
    {
     "name": "stdout",
     "output_type": "stream",
     "text": [
      "/bin/bash: ./darknet: Is a directory\n"
     ]
    }
   ],
   "source": [
    "#Train and save weights in backup folder\n",
    "!./darknet detector train obj.data yolov3-tiny.cfg backup/your_weight"
   ]
  },
  {
   "cell_type": "code",
   "execution_count": 0,
   "metadata": {
    "colab": {},
    "colab_type": "code",
    "id": "qcMktUWFEltb"
   },
   "outputs": [],
   "source": [
    "#Predict object in image\n",
    "!./darknet detector test obj.data yolov3-tiny.cfg backup/your_weight data/val/imgage_predict.jpg"
   ]
  },
  {
   "cell_type": "code",
   "execution_count": 0,
   "metadata": {
    "colab": {},
    "colab_type": "code",
    "id": "tpr1hsDuVigz"
   },
   "outputs": [],
   "source": [
    "#Show image predict\n",
    "display(Image('/content/darknet/predictions.jpg'))"
   ]
  }
 ],
 "metadata": {
  "accelerator": "GPU",
  "colab": {
   "collapsed_sections": [],
   "name": "Yolov3.ipynb",
   "provenance": []
  },
  "kernelspec": {
   "display_name": "Python 3",
   "language": "python",
   "name": "python3"
  },
  "language_info": {
   "codemirror_mode": {
    "name": "ipython",
    "version": 3
   },
   "file_extension": ".py",
   "mimetype": "text/x-python",
   "name": "python",
   "nbconvert_exporter": "python",
   "pygments_lexer": "ipython3",
   "version": "3.7.4"
  }
 },
 "nbformat": 4,
 "nbformat_minor": 1
}
